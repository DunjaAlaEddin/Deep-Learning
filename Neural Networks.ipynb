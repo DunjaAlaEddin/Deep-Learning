{
 "cells": [
  {
   "cell_type": "markdown",
   "id": "e896936d",
   "metadata": {},
   "source": [
    "# <font color = 'darkblue'>LINEAR DATA</font>"
   ]
  },
  {
   "cell_type": "code",
   "execution_count": 2,
   "id": "6f3c04f1",
   "metadata": {},
   "outputs": [],
   "source": [
    "import tensorflow as tf\n",
    "from tensorflow import keras\n",
    "import pandas as pd\n",
    "import numpy as np"
   ]
  },
  {
   "cell_type": "code",
   "execution_count": 2,
   "id": "ebeff0cd",
   "metadata": {},
   "outputs": [],
   "source": [
    "train_df = pd.read_csv('/Users/dunjaalaeddin/Downloads/neural-nets-master/examples/linear/data/train.csv')"
   ]
  },
  {
   "cell_type": "code",
   "execution_count": 3,
   "id": "f75a0eca",
   "metadata": {},
   "outputs": [
    {
     "data": {
      "text/html": [
       "<div>\n",
       "<style scoped>\n",
       "    .dataframe tbody tr th:only-of-type {\n",
       "        vertical-align: middle;\n",
       "    }\n",
       "\n",
       "    .dataframe tbody tr th {\n",
       "        vertical-align: top;\n",
       "    }\n",
       "\n",
       "    .dataframe thead th {\n",
       "        text-align: right;\n",
       "    }\n",
       "</style>\n",
       "<table border=\"1\" class=\"dataframe\">\n",
       "  <thead>\n",
       "    <tr style=\"text-align: right;\">\n",
       "      <th></th>\n",
       "      <th>x</th>\n",
       "      <th>y</th>\n",
       "      <th>color</th>\n",
       "    </tr>\n",
       "  </thead>\n",
       "  <tbody>\n",
       "    <tr>\n",
       "      <th>0</th>\n",
       "      <td>1.146728</td>\n",
       "      <td>2.233629</td>\n",
       "      <td>0.0</td>\n",
       "    </tr>\n",
       "    <tr>\n",
       "      <th>1</th>\n",
       "      <td>3.676886</td>\n",
       "      <td>4.520687</td>\n",
       "      <td>0.0</td>\n",
       "    </tr>\n",
       "    <tr>\n",
       "      <th>2</th>\n",
       "      <td>0.730671</td>\n",
       "      <td>1.426260</td>\n",
       "      <td>0.0</td>\n",
       "    </tr>\n",
       "    <tr>\n",
       "      <th>3</th>\n",
       "      <td>1.950790</td>\n",
       "      <td>3.145987</td>\n",
       "      <td>0.0</td>\n",
       "    </tr>\n",
       "    <tr>\n",
       "      <th>4</th>\n",
       "      <td>4.323010</td>\n",
       "      <td>5.320534</td>\n",
       "      <td>0.0</td>\n",
       "    </tr>\n",
       "  </tbody>\n",
       "</table>\n",
       "</div>"
      ],
      "text/plain": [
       "          x         y  color\n",
       "0  1.146728  2.233629    0.0\n",
       "1  3.676886  4.520687    0.0\n",
       "2  0.730671  1.426260    0.0\n",
       "3  1.950790  3.145987    0.0\n",
       "4  4.323010  5.320534    0.0"
      ]
     },
     "execution_count": 3,
     "metadata": {},
     "output_type": "execute_result"
    }
   ],
   "source": [
    "train_df.head()"
   ]
  },
  {
   "cell_type": "code",
   "execution_count": 8,
   "id": "57b86762",
   "metadata": {},
   "outputs": [],
   "source": [
    "np.random.shuffle(train_df.values)"
   ]
  },
  {
   "cell_type": "code",
   "execution_count": 18,
   "id": "6ef91cc0",
   "metadata": {},
   "outputs": [],
   "source": [
    "model = keras.Sequential([keras.layers.Dense(4, input_shape=(2,), activation = 'relu'),\n",
    "                         keras.layers.Dense(2, activation = 'sigmoid')]);"
   ]
  },
  {
   "cell_type": "code",
   "execution_count": 20,
   "id": "a2880bb9",
   "metadata": {},
   "outputs": [],
   "source": [
    "# from_logits = True (sum of input may not equal 1)\n",
    "model.compile(optimizer = 'adam', \n",
    "              loss = keras.losses.SparseCategoricalCrossentropy(from_logits = True),\n",
    "             metrics = ['accuracy'])"
   ]
  },
  {
   "cell_type": "code",
   "execution_count": 21,
   "id": "9ccda7ea",
   "metadata": {},
   "outputs": [],
   "source": [
    "x = np.column_stack((train_df.x.values, train_df.y.values))"
   ]
  },
  {
   "cell_type": "code",
   "execution_count": 22,
   "id": "795c9877",
   "metadata": {},
   "outputs": [
    {
     "name": "stdout",
     "output_type": "stream",
     "text": [
      "Epoch 1/5\n",
      "1000/1000 [==============================] - 2s 2ms/step - loss: 0.2368 - accuracy: 0.9870\n",
      "Epoch 2/5\n",
      "1000/1000 [==============================] - 2s 2ms/step - loss: 0.0523 - accuracy: 1.0000\n",
      "Epoch 3/5\n",
      "1000/1000 [==============================] - 2s 2ms/step - loss: 0.0192 - accuracy: 1.0000\n",
      "Epoch 4/5\n",
      "1000/1000 [==============================] - 2s 2ms/step - loss: 0.0095 - accuracy: 1.0000\n",
      "Epoch 5/5\n",
      "1000/1000 [==============================] - 2s 2ms/step - loss: 0.0054 - accuracy: 1.0000\n"
     ]
    },
    {
     "data": {
      "text/plain": [
       "<keras.callbacks.History at 0x7f9403ebbf40>"
      ]
     },
     "execution_count": 22,
     "metadata": {},
     "output_type": "execute_result"
    }
   ],
   "source": [
    "# train_df.x.values[] (data in numpy form)\n",
    "model.fit(x, train_df.color.values, batch_size = 4, epochs = 5)"
   ]
  },
  {
   "cell_type": "code",
   "execution_count": 23,
   "id": "4fbad61c",
   "metadata": {},
   "outputs": [],
   "source": [
    "test_df = pd.read_csv('/Users/dunjaalaeddin/Downloads/neural-nets-master/examples/linear/data/test.csv')"
   ]
  },
  {
   "cell_type": "code",
   "execution_count": 24,
   "id": "943e5969",
   "metadata": {},
   "outputs": [],
   "source": [
    "test_x = np.column_stack((test_df.x.values, test_df.y.values))"
   ]
  },
  {
   "cell_type": "code",
   "execution_count": 25,
   "id": "8c0b5836",
   "metadata": {},
   "outputs": [
    {
     "name": "stdout",
     "output_type": "stream",
     "text": [
      "32/32 [==============================] - 0s 2ms/step - loss: 0.0041 - accuracy: 1.0000\n"
     ]
    },
    {
     "data": {
      "text/plain": [
       "[0.004131166264414787, 1.0]"
      ]
     },
     "execution_count": 25,
     "metadata": {},
     "output_type": "execute_result"
    }
   ],
   "source": [
    "model.evaluate(test_x, test_df.color.values)"
   ]
  },
  {
   "cell_type": "markdown",
   "id": "845bb79d",
   "metadata": {},
   "source": [
    "# <font color = 'darkblue'>QUADRATIC DATA</font>"
   ]
  },
  {
   "cell_type": "code",
   "execution_count": 27,
   "id": "42fe7512",
   "metadata": {},
   "outputs": [],
   "source": [
    "train_df = pd.read_csv('/Users/dunjaalaeddin/Downloads/neural-nets-master/examples/quadratic/data/train.csv')"
   ]
  },
  {
   "cell_type": "code",
   "execution_count": 28,
   "id": "e37a907d",
   "metadata": {},
   "outputs": [
    {
     "data": {
      "text/html": [
       "<div>\n",
       "<style scoped>\n",
       "    .dataframe tbody tr th:only-of-type {\n",
       "        vertical-align: middle;\n",
       "    }\n",
       "\n",
       "    .dataframe tbody tr th {\n",
       "        vertical-align: top;\n",
       "    }\n",
       "\n",
       "    .dataframe thead th {\n",
       "        text-align: right;\n",
       "    }\n",
       "</style>\n",
       "<table border=\"1\" class=\"dataframe\">\n",
       "  <thead>\n",
       "    <tr style=\"text-align: right;\">\n",
       "      <th></th>\n",
       "      <th>x</th>\n",
       "      <th>y</th>\n",
       "      <th>color</th>\n",
       "    </tr>\n",
       "  </thead>\n",
       "  <tbody>\n",
       "    <tr>\n",
       "      <th>0</th>\n",
       "      <td>-4.956506</td>\n",
       "      <td>25.706334</td>\n",
       "      <td>0.0</td>\n",
       "    </tr>\n",
       "    <tr>\n",
       "      <th>1</th>\n",
       "      <td>2.897218</td>\n",
       "      <td>10.359784</td>\n",
       "      <td>0.0</td>\n",
       "    </tr>\n",
       "    <tr>\n",
       "      <th>2</th>\n",
       "      <td>-4.488273</td>\n",
       "      <td>22.113311</td>\n",
       "      <td>0.0</td>\n",
       "    </tr>\n",
       "    <tr>\n",
       "      <th>3</th>\n",
       "      <td>3.823152</td>\n",
       "      <td>15.665060</td>\n",
       "      <td>0.0</td>\n",
       "    </tr>\n",
       "    <tr>\n",
       "      <th>4</th>\n",
       "      <td>4.425201</td>\n",
       "      <td>21.118726</td>\n",
       "      <td>0.0</td>\n",
       "    </tr>\n",
       "  </tbody>\n",
       "</table>\n",
       "</div>"
      ],
      "text/plain": [
       "          x          y  color\n",
       "0 -4.956506  25.706334    0.0\n",
       "1  2.897218  10.359784    0.0\n",
       "2 -4.488273  22.113311    0.0\n",
       "3  3.823152  15.665060    0.0\n",
       "4  4.425201  21.118726    0.0"
      ]
     },
     "execution_count": 28,
     "metadata": {},
     "output_type": "execute_result"
    }
   ],
   "source": [
    "train_df.head()"
   ]
  },
  {
   "cell_type": "code",
   "execution_count": 29,
   "id": "3e4c19ad",
   "metadata": {},
   "outputs": [],
   "source": [
    "np.random.shuffle(train_df.values)"
   ]
  },
  {
   "cell_type": "code",
   "execution_count": 50,
   "id": "8d1f5203",
   "metadata": {},
   "outputs": [],
   "source": [
    "# add hidden layer, increase size of hidden layers\n",
    "model = keras.Sequential([keras.layers.Dense(32, input_shape=(2,), activation = 'relu'),\n",
    "                          keras.layers.Dense(32, activation = 'relu'), \n",
    "                          keras.layers.Dense(2, activation = 'sigmoid')]);"
   ]
  },
  {
   "cell_type": "code",
   "execution_count": 51,
   "id": "a986f07a",
   "metadata": {},
   "outputs": [],
   "source": [
    "model.compile(optimizer = 'adam', \n",
    "              loss = keras.losses.SparseCategoricalCrossentropy(from_logits = True),\n",
    "             metrics = ['accuracy'])"
   ]
  },
  {
   "cell_type": "code",
   "execution_count": 52,
   "id": "8b831df8",
   "metadata": {},
   "outputs": [],
   "source": [
    "x = np.column_stack((train_df.x.values, train_df.y.values))"
   ]
  },
  {
   "cell_type": "code",
   "execution_count": 53,
   "id": "a5b47b5f",
   "metadata": {},
   "outputs": [
    {
     "name": "stdout",
     "output_type": "stream",
     "text": [
      "Epoch 1/10\n",
      "1000/1000 [==============================] - 3s 2ms/step - loss: 0.5095 - accuracy: 0.7540\n",
      "Epoch 2/10\n",
      "1000/1000 [==============================] - 2s 2ms/step - loss: 0.2743 - accuracy: 0.8978\n",
      "Epoch 3/10\n",
      "1000/1000 [==============================] - 2s 2ms/step - loss: 0.1815 - accuracy: 0.9367\n",
      "Epoch 4/10\n",
      "1000/1000 [==============================] - 2s 2ms/step - loss: 0.1103 - accuracy: 0.9725\n",
      "Epoch 5/10\n",
      "1000/1000 [==============================] - 2s 2ms/step - loss: 0.0866 - accuracy: 0.9745\n",
      "Epoch 6/10\n",
      "1000/1000 [==============================] - 2s 2ms/step - loss: 0.0711 - accuracy: 0.9835\n",
      "Epoch 7/10\n",
      "1000/1000 [==============================] - 2s 2ms/step - loss: 0.0613 - accuracy: 0.9805\n",
      "Epoch 8/10\n",
      "1000/1000 [==============================] - 2s 2ms/step - loss: 0.0522 - accuracy: 0.9830\n",
      "Epoch 9/10\n",
      "1000/1000 [==============================] - 2s 2ms/step - loss: 0.0543 - accuracy: 0.9870\n",
      "Epoch 10/10\n",
      "1000/1000 [==============================] - 2s 2ms/step - loss: 0.0431 - accuracy: 0.9870\n"
     ]
    }
   ],
   "source": [
    "# increase epochs\n",
    "model.fit(x, train_df.color.values, batch_size = 4, epochs = 10);"
   ]
  },
  {
   "cell_type": "code",
   "execution_count": 54,
   "id": "92c19e17",
   "metadata": {},
   "outputs": [],
   "source": [
    "test_df = pd.read_csv('/Users/dunjaalaeddin/Downloads/neural-nets-master/examples/quadratic/data/test.csv')"
   ]
  },
  {
   "cell_type": "code",
   "execution_count": 55,
   "id": "30789482",
   "metadata": {},
   "outputs": [],
   "source": [
    "test_x = np.column_stack((test_df.x.values, test_df.y.values))"
   ]
  },
  {
   "cell_type": "code",
   "execution_count": 56,
   "id": "29a2ee98",
   "metadata": {},
   "outputs": [
    {
     "name": "stdout",
     "output_type": "stream",
     "text": [
      "32/32 [==============================] - 0s 2ms/step - loss: 0.0182 - accuracy: 0.9970\n"
     ]
    },
    {
     "data": {
      "text/plain": [
       "[0.018214166164398193, 0.996999979019165]"
      ]
     },
     "execution_count": 56,
     "metadata": {},
     "output_type": "execute_result"
    }
   ],
   "source": [
    "model.evaluate(test_x, test_df.color.values)"
   ]
  },
  {
   "cell_type": "markdown",
   "id": "00d22455",
   "metadata": {},
   "source": [
    "# <font color = 'darkblue'>CLUSTER DATA</font>"
   ]
  },
  {
   "cell_type": "code",
   "execution_count": 57,
   "id": "d15a16a4",
   "metadata": {},
   "outputs": [],
   "source": [
    "train_df = pd.read_csv('/Users/dunjaalaeddin/Downloads/neural-nets-master/examples/clusters/data/train.csv')"
   ]
  },
  {
   "cell_type": "code",
   "execution_count": 70,
   "id": "4c05c1af",
   "metadata": {},
   "outputs": [
    {
     "data": {
      "text/html": [
       "<div>\n",
       "<style scoped>\n",
       "    .dataframe tbody tr th:only-of-type {\n",
       "        vertical-align: middle;\n",
       "    }\n",
       "\n",
       "    .dataframe tbody tr th {\n",
       "        vertical-align: top;\n",
       "    }\n",
       "\n",
       "    .dataframe thead th {\n",
       "        text-align: right;\n",
       "    }\n",
       "</style>\n",
       "<table border=\"1\" class=\"dataframe\">\n",
       "  <thead>\n",
       "    <tr style=\"text-align: right;\">\n",
       "      <th></th>\n",
       "      <th>x</th>\n",
       "      <th>y</th>\n",
       "      <th>color</th>\n",
       "    </tr>\n",
       "  </thead>\n",
       "  <tbody>\n",
       "    <tr>\n",
       "      <th>0</th>\n",
       "      <td>0.129270</td>\n",
       "      <td>1.979720</td>\n",
       "      <td>0</td>\n",
       "    </tr>\n",
       "    <tr>\n",
       "      <th>1</th>\n",
       "      <td>-0.380831</td>\n",
       "      <td>1.693519</td>\n",
       "      <td>0</td>\n",
       "    </tr>\n",
       "    <tr>\n",
       "      <th>2</th>\n",
       "      <td>0.718693</td>\n",
       "      <td>1.791793</td>\n",
       "      <td>0</td>\n",
       "    </tr>\n",
       "    <tr>\n",
       "      <th>3</th>\n",
       "      <td>0.722922</td>\n",
       "      <td>0.620655</td>\n",
       "      <td>0</td>\n",
       "    </tr>\n",
       "    <tr>\n",
       "      <th>4</th>\n",
       "      <td>-0.432689</td>\n",
       "      <td>0.541550</td>\n",
       "      <td>0</td>\n",
       "    </tr>\n",
       "  </tbody>\n",
       "</table>\n",
       "</div>"
      ],
      "text/plain": [
       "          x         y  color\n",
       "0  0.129270  1.979720      0\n",
       "1 -0.380831  1.693519      0\n",
       "2  0.718693  1.791793      0\n",
       "3  0.722922  0.620655      0\n",
       "4 -0.432689  0.541550      0"
      ]
     },
     "execution_count": 70,
     "metadata": {},
     "output_type": "execute_result"
    }
   ],
   "source": [
    "train_df.head()"
   ]
  },
  {
   "cell_type": "code",
   "execution_count": 61,
   "id": "2d1724d7",
   "metadata": {},
   "outputs": [],
   "source": [
    "# change color to numerical for train data\n",
    "color_dict = {'red': 0, 'blue': 1, 'green': 2, 'teal': 3, 'orange': 4, 'purple': 5}\n",
    "train_df['color'] = train_df.color.apply(lambda x: color_dict[x])"
   ]
  },
  {
   "cell_type": "code",
   "execution_count": 69,
   "id": "0e7a3d6b",
   "metadata": {},
   "outputs": [],
   "source": [
    "# shuffle data\n",
    "np.random.shuffle(train_df.values)"
   ]
  },
  {
   "cell_type": "code",
   "execution_count": 84,
   "id": "910af434",
   "metadata": {},
   "outputs": [],
   "source": [
    "# change output layer to 6 outcomes\n",
    "model = keras.Sequential([keras.layers.Dense(32, input_shape=(2,), activation = 'relu'),\n",
    "                         keras.layers.Dense(6, activation = 'sigmoid')]);"
   ]
  },
  {
   "cell_type": "code",
   "execution_count": 85,
   "id": "5595078d",
   "metadata": {},
   "outputs": [],
   "source": [
    "model.compile(optimizer = 'adam', \n",
    "              loss = keras.losses.SparseCategoricalCrossentropy(from_logits = True),\n",
    "             metrics = ['accuracy'])"
   ]
  },
  {
   "cell_type": "code",
   "execution_count": 86,
   "id": "e97760f7",
   "metadata": {},
   "outputs": [],
   "source": [
    "x = np.column_stack((train_df.x.values, train_df.y.values))"
   ]
  },
  {
   "cell_type": "code",
   "execution_count": 87,
   "id": "dc08d3cc",
   "metadata": {},
   "outputs": [
    {
     "name": "stdout",
     "output_type": "stream",
     "text": [
      "Epoch 1/10\n",
      "1500/1500 [==============================] - 3s 2ms/step - loss: 0.8030 - accuracy: 0.7247\n",
      "Epoch 2/10\n",
      "1500/1500 [==============================] - 2s 2ms/step - loss: 0.3286 - accuracy: 0.9212\n",
      "Epoch 3/10\n",
      "1500/1500 [==============================] - 2s 2ms/step - loss: 0.2194 - accuracy: 0.9547\n",
      "Epoch 4/10\n",
      "1500/1500 [==============================] - 3s 2ms/step - loss: 0.1738 - accuracy: 0.9667\n",
      "Epoch 5/10\n",
      "1500/1500 [==============================] - 3s 2ms/step - loss: 0.1490 - accuracy: 0.9710\n",
      "Epoch 6/10\n",
      "1500/1500 [==============================] - 2s 2ms/step - loss: 0.1320 - accuracy: 0.9767\n",
      "Epoch 7/10\n",
      "1500/1500 [==============================] - 2s 2ms/step - loss: 0.1211 - accuracy: 0.9758\n",
      "Epoch 8/10\n",
      "1500/1500 [==============================] - 2s 2ms/step - loss: 0.1107 - accuracy: 0.9770\n",
      "Epoch 9/10\n",
      "1500/1500 [==============================] - 3s 2ms/step - loss: 0.1039 - accuracy: 0.9768\n",
      "Epoch 10/10\n",
      "1500/1500 [==============================] - 3s 2ms/step - loss: 0.0982 - accuracy: 0.9793\n"
     ]
    },
    {
     "data": {
      "text/plain": [
       "<keras.callbacks.History at 0x7f93e7066f10>"
      ]
     },
     "execution_count": 87,
     "metadata": {},
     "output_type": "execute_result"
    }
   ],
   "source": [
    "model.fit(x, train_df.color.values, batch_size = 4, epochs = 10)"
   ]
  },
  {
   "cell_type": "code",
   "execution_count": 88,
   "id": "704aa085",
   "metadata": {},
   "outputs": [],
   "source": [
    "test_df = pd.read_csv('/Users/dunjaalaeddin/Downloads/neural-nets-master/examples/clusters/data/test.csv')"
   ]
  },
  {
   "cell_type": "code",
   "execution_count": 89,
   "id": "a8ef989c",
   "metadata": {},
   "outputs": [],
   "source": [
    "test_x = np.column_stack((test_df.x.values, test_df.y.values))"
   ]
  },
  {
   "cell_type": "code",
   "execution_count": 90,
   "id": "46d77986",
   "metadata": {},
   "outputs": [
    {
     "name": "stdout",
     "output_type": "stream",
     "text": [
      "38/38 [==============================] - 0s 2ms/step - loss: 0.0995 - accuracy: 0.9775\n"
     ]
    },
    {
     "data": {
      "text/plain": [
       "[0.09951405972242355, 0.9775000214576721]"
      ]
     },
     "execution_count": 90,
     "metadata": {},
     "output_type": "execute_result"
    }
   ],
   "source": [
    "# change color to numerical for test data\n",
    "test_df['color'] = test_df.color.apply(lambda x: color_dict[x])\n",
    "model.evaluate(test_x, test_df.color.values)"
   ]
  },
  {
   "cell_type": "code",
   "execution_count": 93,
   "id": "db0ff7ce",
   "metadata": {},
   "outputs": [
    {
     "name": "stdout",
     "output_type": "stream",
     "text": [
      "1/1 [==============================] - 0s 23ms/step\n"
     ]
    },
    {
     "data": {
      "text/plain": [
       "array([[0., 0., 0., 0., 0., 1.]], dtype=float32)"
      ]
     },
     "execution_count": 93,
     "metadata": {},
     "output_type": "execute_result"
    }
   ],
   "source": [
    "# purple = 5 (6th value)\n",
    "np.round(model.predict(np.array([[0,3]])))"
   ]
  },
  {
   "cell_type": "markdown",
   "id": "89e30f86",
   "metadata": {},
   "source": [
    "# <font color = 'darkblue'>CLUSTER (TWO CATEGORIES) DATA</font>"
   ]
  },
  {
   "cell_type": "code",
   "execution_count": 170,
   "id": "53177e81",
   "metadata": {},
   "outputs": [],
   "source": [
    "train_df = pd.read_csv('/Users/dunjaalaeddin/Downloads/neural-nets-master/examples/clusters_two_categories/data/train.csv')"
   ]
  },
  {
   "cell_type": "code",
   "execution_count": 171,
   "id": "847e0459",
   "metadata": {},
   "outputs": [
    {
     "data": {
      "text/html": [
       "<div>\n",
       "<style scoped>\n",
       "    .dataframe tbody tr th:only-of-type {\n",
       "        vertical-align: middle;\n",
       "    }\n",
       "\n",
       "    .dataframe tbody tr th {\n",
       "        vertical-align: top;\n",
       "    }\n",
       "\n",
       "    .dataframe thead th {\n",
       "        text-align: right;\n",
       "    }\n",
       "</style>\n",
       "<table border=\"1\" class=\"dataframe\">\n",
       "  <thead>\n",
       "    <tr style=\"text-align: right;\">\n",
       "      <th></th>\n",
       "      <th>x</th>\n",
       "      <th>y</th>\n",
       "      <th>color</th>\n",
       "      <th>marker</th>\n",
       "    </tr>\n",
       "  </thead>\n",
       "  <tbody>\n",
       "    <tr>\n",
       "      <th>0</th>\n",
       "      <td>-0.765775</td>\n",
       "      <td>1.006452</td>\n",
       "      <td>red</td>\n",
       "      <td>^</td>\n",
       "    </tr>\n",
       "    <tr>\n",
       "      <th>1</th>\n",
       "      <td>0.229016</td>\n",
       "      <td>0.094320</td>\n",
       "      <td>red</td>\n",
       "      <td>^</td>\n",
       "    </tr>\n",
       "    <tr>\n",
       "      <th>2</th>\n",
       "      <td>0.189987</td>\n",
       "      <td>1.589141</td>\n",
       "      <td>red</td>\n",
       "      <td>^</td>\n",
       "    </tr>\n",
       "    <tr>\n",
       "      <th>3</th>\n",
       "      <td>0.580085</td>\n",
       "      <td>0.520488</td>\n",
       "      <td>red</td>\n",
       "      <td>^</td>\n",
       "    </tr>\n",
       "    <tr>\n",
       "      <th>4</th>\n",
       "      <td>0.292287</td>\n",
       "      <td>0.317852</td>\n",
       "      <td>red</td>\n",
       "      <td>^</td>\n",
       "    </tr>\n",
       "  </tbody>\n",
       "</table>\n",
       "</div>"
      ],
      "text/plain": [
       "          x         y color marker\n",
       "0 -0.765775  1.006452   red      ^\n",
       "1  0.229016  0.094320   red      ^\n",
       "2  0.189987  1.589141   red      ^\n",
       "3  0.580085  0.520488   red      ^\n",
       "4  0.292287  0.317852   red      ^"
      ]
     },
     "execution_count": 171,
     "metadata": {},
     "output_type": "execute_result"
    }
   ],
   "source": [
    "train_df.head()"
   ]
  },
  {
   "cell_type": "code",
   "execution_count": 172,
   "id": "a90c6638",
   "metadata": {},
   "outputs": [
    {
     "name": "stdout",
     "output_type": "stream",
     "text": [
      "['^' '+' '*']\n",
      "['red' 'blue' 'green' 'teal' 'orange' 'purple']\n"
     ]
    }
   ],
   "source": [
    "print(train_df.marker.unique())\n",
    "print(train_df.color.unique())"
   ]
  },
  {
   "cell_type": "code",
   "execution_count": 183,
   "id": "537183bb",
   "metadata": {},
   "outputs": [],
   "source": [
    "# .values (numpy form instead of dataframe)\n",
    "# one hot [000001]\n",
    "one_hot_color = pd.get_dummies(train_df.color).values\n",
    "one_hot_marker = pd.get_dummies(train_df.marker).values\n",
    "labels = np.concatenate((one_hot_color, one_hot_marker), axis = 1)"
   ]
  },
  {
   "cell_type": "code",
   "execution_count": 184,
   "id": "f39b6837",
   "metadata": {},
   "outputs": [],
   "source": [
    "# change output layer to 9 outcomes\n",
    "model = keras.Sequential([keras.layers.Dense(32, input_shape=(2,), activation = 'relu'),\n",
    "                          keras.layers.Dense(32, activation = 'relu'),\n",
    "                          keras.layers.Dense(9, activation = 'sigmoid')]);"
   ]
  },
  {
   "cell_type": "code",
   "execution_count": 185,
   "id": "ed5b46e5",
   "metadata": {},
   "outputs": [],
   "source": [
    "# CategoricalCrossentropy does not work here\n",
    "# BinaryCrossentropy multiple 0s and 1s possible\n",
    "model.compile(optimizer = 'adam', \n",
    "              loss = keras.losses.BinaryCrossentropy(from_logits = True),\n",
    "              metrics = ['accuracy'])"
   ]
  },
  {
   "cell_type": "code",
   "execution_count": 186,
   "id": "eb27a444",
   "metadata": {},
   "outputs": [],
   "source": [
    "x = np.column_stack((train_df.x.values, train_df.y.values))"
   ]
  },
  {
   "cell_type": "code",
   "execution_count": 187,
   "id": "0d99adcc",
   "metadata": {},
   "outputs": [],
   "source": [
    "np.random.RandomState(seed = 42).shuffle(x)\n",
    "np.random.RandomState(seed = 42).shuffle(labels)"
   ]
  },
  {
   "cell_type": "code",
   "execution_count": 188,
   "id": "9cab1e69",
   "metadata": {},
   "outputs": [
    {
     "name": "stdout",
     "output_type": "stream",
     "text": [
      "Epoch 1/10\n",
      "1500/1500 [==============================] - 3s 2ms/step - loss: 0.2416 - accuracy: 0.1905\n",
      "Epoch 2/10\n",
      "1500/1500 [==============================] - 3s 2ms/step - loss: 0.1076 - accuracy: 0.4320\n",
      "Epoch 3/10\n",
      "1500/1500 [==============================] - 3s 2ms/step - loss: 0.0648 - accuracy: 0.4413\n",
      "Epoch 4/10\n",
      "1500/1500 [==============================] - 3s 2ms/step - loss: 0.0483 - accuracy: 0.4437\n",
      "Epoch 5/10\n",
      "1500/1500 [==============================] - 3s 2ms/step - loss: 0.0401 - accuracy: 0.4272\n",
      "Epoch 6/10\n",
      "1500/1500 [==============================] - 3s 2ms/step - loss: 0.0351 - accuracy: 0.4188\n",
      "Epoch 7/10\n",
      "1500/1500 [==============================] - 3s 2ms/step - loss: 0.0310 - accuracy: 0.4145\n",
      "Epoch 8/10\n",
      "1500/1500 [==============================] - 3s 2ms/step - loss: 0.0286 - accuracy: 0.3997\n",
      "Epoch 9/10\n",
      "1500/1500 [==============================] - 3s 2ms/step - loss: 0.0259 - accuracy: 0.3872\n",
      "Epoch 10/10\n",
      "1500/1500 [==============================] - 3s 2ms/step - loss: 0.0248 - accuracy: 0.3763\n"
     ]
    },
    {
     "data": {
      "text/plain": [
       "<keras.callbacks.History at 0x7f93ebdc7100>"
      ]
     },
     "execution_count": 188,
     "metadata": {},
     "output_type": "execute_result"
    }
   ],
   "source": [
    "model.fit(x, labels, batch_size = 4, epochs = 10)"
   ]
  },
  {
   "cell_type": "code",
   "execution_count": 189,
   "id": "1a6fc151",
   "metadata": {},
   "outputs": [],
   "source": [
    "test_df = pd.read_csv('/Users/dunjaalaeddin/Downloads/neural-nets-master/examples/clusters_two_categories/data/test.csv')"
   ]
  },
  {
   "cell_type": "code",
   "execution_count": 190,
   "id": "56176fda",
   "metadata": {},
   "outputs": [],
   "source": [
    "test_x = np.column_stack((test_df.x.values, test_df.y.values))"
   ]
  },
  {
   "cell_type": "code",
   "execution_count": 191,
   "id": "3922bbd1",
   "metadata": {},
   "outputs": [
    {
     "name": "stdout",
     "output_type": "stream",
     "text": [
      "38/38 [==============================] - 0s 2ms/step - loss: 0.0406 - accuracy: 0.3558\n"
     ]
    },
    {
     "data": {
      "text/plain": [
       "[0.04056354984641075, 0.3558333218097687]"
      ]
     },
     "execution_count": 191,
     "metadata": {},
     "output_type": "execute_result"
    }
   ],
   "source": [
    "test_one_hot_color = pd.get_dummies(test_df.color).values\n",
    "test_one_hot_marker = pd.get_dummies(test_df.marker).values\n",
    "test_labels = np.concatenate((test_one_hot_color, test_one_hot_marker), axis = 1)\n",
    "model.evaluate(test_x, test_labels)"
   ]
  },
  {
   "cell_type": "code",
   "execution_count": 192,
   "id": "831e9e1e",
   "metadata": {},
   "outputs": [
    {
     "name": "stdout",
     "output_type": "stream",
     "text": [
      "1/1 [==============================] - 0s 59ms/step\n"
     ]
    },
    {
     "data": {
      "text/plain": [
       "array([[0., 0., 0., 1., 0., 0., 1., 0., 0.]], dtype=float32)"
      ]
     },
     "execution_count": 192,
     "metadata": {},
     "output_type": "execute_result"
    }
   ],
   "source": [
    "np.round(model.predict(np.array([[0,3]])))"
   ]
  },
  {
   "cell_type": "markdown",
   "id": "258ff8c8",
   "metadata": {},
   "source": [
    "# <font color = 'darkblue'>COMPLEX DATA</font>"
   ]
  },
  {
   "cell_type": "code",
   "execution_count": 22,
   "id": "969d12bb",
   "metadata": {},
   "outputs": [],
   "source": [
    "train_df = pd.read_csv('/Users/dunjaalaeddin/Downloads/neural-nets-master/examples/complex/data/train.csv')"
   ]
  },
  {
   "cell_type": "code",
   "execution_count": 23,
   "id": "fcbb5e02",
   "metadata": {},
   "outputs": [],
   "source": [
    "np.random.RandomState(seed = 42).shuffle(train_df.values)"
   ]
  },
  {
   "cell_type": "code",
   "execution_count": 24,
   "id": "aa88d49a",
   "metadata": {},
   "outputs": [
    {
     "data": {
      "text/html": [
       "<div>\n",
       "<style scoped>\n",
       "    .dataframe tbody tr th:only-of-type {\n",
       "        vertical-align: middle;\n",
       "    }\n",
       "\n",
       "    .dataframe tbody tr th {\n",
       "        vertical-align: top;\n",
       "    }\n",
       "\n",
       "    .dataframe thead th {\n",
       "        text-align: right;\n",
       "    }\n",
       "</style>\n",
       "<table border=\"1\" class=\"dataframe\">\n",
       "  <thead>\n",
       "    <tr style=\"text-align: right;\">\n",
       "      <th></th>\n",
       "      <th>x</th>\n",
       "      <th>y</th>\n",
       "      <th>color</th>\n",
       "    </tr>\n",
       "  </thead>\n",
       "  <tbody>\n",
       "    <tr>\n",
       "      <th>0</th>\n",
       "      <td>3.966888</td>\n",
       "      <td>-4.065421</td>\n",
       "      <td>0.0</td>\n",
       "    </tr>\n",
       "    <tr>\n",
       "      <th>1</th>\n",
       "      <td>-2.164144</td>\n",
       "      <td>3.465220</td>\n",
       "      <td>1.0</td>\n",
       "    </tr>\n",
       "    <tr>\n",
       "      <th>2</th>\n",
       "      <td>3.300877</td>\n",
       "      <td>-3.182760</td>\n",
       "      <td>0.0</td>\n",
       "    </tr>\n",
       "    <tr>\n",
       "      <th>3</th>\n",
       "      <td>-0.759370</td>\n",
       "      <td>0.880582</td>\n",
       "      <td>1.0</td>\n",
       "    </tr>\n",
       "    <tr>\n",
       "      <th>4</th>\n",
       "      <td>4.741815</td>\n",
       "      <td>2.847671</td>\n",
       "      <td>0.0</td>\n",
       "    </tr>\n",
       "  </tbody>\n",
       "</table>\n",
       "</div>"
      ],
      "text/plain": [
       "          x         y  color\n",
       "0  3.966888 -4.065421    0.0\n",
       "1 -2.164144  3.465220    1.0\n",
       "2  3.300877 -3.182760    0.0\n",
       "3 -0.759370  0.880582    1.0\n",
       "4  4.741815  2.847671    0.0"
      ]
     },
     "execution_count": 24,
     "metadata": {},
     "output_type": "execute_result"
    }
   ],
   "source": [
    "train_df.head()"
   ]
  },
  {
   "cell_type": "code",
   "execution_count": 39,
   "id": "406ef104",
   "metadata": {},
   "outputs": [],
   "source": [
    "model = keras.Sequential([keras.layers.Dense(256, input_shape=(2,), activation = 'relu'),\n",
    "                          keras.layers.Dropout(0.4),\n",
    "                          keras.layers.Dense(128, activation = 'relu'),\n",
    "                          keras.layers.Dropout(0.4),\n",
    "                          keras.layers.Dense(128, activation = 'relu'),\n",
    "                          keras.layers.Dense(2, activation = 'sigmoid')])"
   ]
  },
  {
   "cell_type": "code",
   "execution_count": 40,
   "id": "2d335a55",
   "metadata": {},
   "outputs": [],
   "source": [
    "# change to SparseCategoricalCrossentropy\n",
    "model.compile(optimizer = 'adam', \n",
    "              loss = keras.losses.SparseCategoricalCrossentropy(from_logits = True),\n",
    "              metrics = ['accuracy'])"
   ]
  },
  {
   "cell_type": "code",
   "execution_count": 41,
   "id": "902e9494",
   "metadata": {},
   "outputs": [],
   "source": [
    "x = np.column_stack((train_df.x.values, train_df.y.values))"
   ]
  },
  {
   "cell_type": "code",
   "execution_count": 46,
   "id": "0cd6e429",
   "metadata": {},
   "outputs": [
    {
     "name": "stdout",
     "output_type": "stream",
     "text": [
      "Epoch 1/10\n",
      "625/625 [==============================] - 3s 4ms/step - loss: 0.3587 - accuracy: 0.8332\n",
      "Epoch 2/10\n",
      "625/625 [==============================] - 2s 3ms/step - loss: 0.3546 - accuracy: 0.8326\n",
      "Epoch 3/10\n",
      "625/625 [==============================] - 2s 3ms/step - loss: 0.3524 - accuracy: 0.8382\n",
      "Epoch 4/10\n",
      "625/625 [==============================] - 2s 3ms/step - loss: 0.3468 - accuracy: 0.8364\n",
      "Epoch 5/10\n",
      "625/625 [==============================] - 2s 3ms/step - loss: 0.3452 - accuracy: 0.8410\n",
      "Epoch 6/10\n",
      "625/625 [==============================] - 2s 3ms/step - loss: 0.3397 - accuracy: 0.8429\n",
      "Epoch 7/10\n",
      "625/625 [==============================] - 2s 3ms/step - loss: 0.3315 - accuracy: 0.8505\n",
      "Epoch 8/10\n",
      "625/625 [==============================] - 2s 3ms/step - loss: 0.3302 - accuracy: 0.8490\n",
      "Epoch 9/10\n",
      "625/625 [==============================] - 2s 3ms/step - loss: 0.3255 - accuracy: 0.8501\n",
      "Epoch 10/10\n",
      "625/625 [==============================] - 2s 3ms/step - loss: 0.3203 - accuracy: 0.8514\n"
     ]
    },
    {
     "data": {
      "text/plain": [
       "<keras.callbacks.History at 0x7fcb035603a0>"
      ]
     },
     "execution_count": 46,
     "metadata": {},
     "output_type": "execute_result"
    }
   ],
   "source": [
    "model.fit(x, train_df.color.values, batch_size = 32, epochs = 10)"
   ]
  },
  {
   "cell_type": "code",
   "execution_count": 47,
   "id": "e1bafef9",
   "metadata": {},
   "outputs": [],
   "source": [
    "test_df = pd.read_csv('/Users/dunjaalaeddin/Downloads/neural-nets-master/examples/complex/data/test.csv')"
   ]
  },
  {
   "cell_type": "code",
   "execution_count": 48,
   "id": "28c6c9d9",
   "metadata": {},
   "outputs": [],
   "source": [
    "test_x = np.column_stack((test_df.x.values, test_df.y.values))"
   ]
  },
  {
   "cell_type": "code",
   "execution_count": 49,
   "id": "f0003339",
   "metadata": {},
   "outputs": [
    {
     "name": "stdout",
     "output_type": "stream",
     "text": [
      "157/157 [==============================] - 0s 2ms/step - loss: 0.2837 - accuracy: 0.8834\n"
     ]
    },
    {
     "data": {
      "text/plain": [
       "[0.28367164731025696, 0.883400022983551]"
      ]
     },
     "execution_count": 49,
     "metadata": {},
     "output_type": "execute_result"
    }
   ],
   "source": [
    "model.evaluate(test_x, test_df.color.values)"
   ]
  },
  {
   "cell_type": "code",
   "execution_count": null,
   "id": "91b4d89f",
   "metadata": {},
   "outputs": [],
   "source": []
  },
  {
   "cell_type": "code",
   "execution_count": null,
   "id": "ae252707",
   "metadata": {},
   "outputs": [],
   "source": []
  },
  {
   "cell_type": "code",
   "execution_count": null,
   "id": "463ebaf4",
   "metadata": {},
   "outputs": [],
   "source": []
  },
  {
   "cell_type": "code",
   "execution_count": null,
   "id": "082f3d75",
   "metadata": {},
   "outputs": [],
   "source": []
  },
  {
   "cell_type": "code",
   "execution_count": null,
   "id": "832b544e",
   "metadata": {},
   "outputs": [],
   "source": []
  },
  {
   "cell_type": "code",
   "execution_count": null,
   "id": "d31d0653",
   "metadata": {},
   "outputs": [],
   "source": []
  },
  {
   "cell_type": "code",
   "execution_count": null,
   "id": "9df5a2dc",
   "metadata": {},
   "outputs": [],
   "source": []
  }
 ],
 "metadata": {
  "kernelspec": {
   "display_name": "Python 3 (ipykernel)",
   "language": "python",
   "name": "python3"
  },
  "language_info": {
   "codemirror_mode": {
    "name": "ipython",
    "version": 3
   },
   "file_extension": ".py",
   "mimetype": "text/x-python",
   "name": "python",
   "nbconvert_exporter": "python",
   "pygments_lexer": "ipython3",
   "version": "3.8.11"
  }
 },
 "nbformat": 4,
 "nbformat_minor": 5
}
